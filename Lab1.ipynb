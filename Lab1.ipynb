{
  "nbformat": 4,
  "nbformat_minor": 0,
  "metadata": {
    "colab": {
      "name": "Lab1.ipynb",
      "provenance": [],
      "authorship_tag": "ABX9TyOMGD+RnLlm59NGavlUYn9d",
      "include_colab_link": true
    },
    "kernelspec": {
      "name": "python3",
      "display_name": "Python 3"
    },
    "language_info": {
      "name": "python"
    }
  },
  "cells": [
    {
      "cell_type": "markdown",
      "metadata": {
        "id": "view-in-github",
        "colab_type": "text"
      },
      "source": [
        "<a href=\"https://colab.research.google.com/github/Mjey15/CPEN-21A-CPE-1-1/blob/main/Lab1.ipynb\" target=\"_parent\"><img src=\"https://colab.research.google.com/assets/colab-badge.svg\" alt=\"Open In Colab\"/></a>"
      ]
    },
    {
      "cell_type": "markdown",
      "metadata": {
        "id": "YPzp0AQwjmd5"
      },
      "source": [
        "#Laboratory 1"
      ]
    },
    {
      "cell_type": "code",
      "metadata": {
        "colab": {
          "base_uri": "https://localhost:8080/"
        },
        "id": "0aia14sRjiRb",
        "outputId": "aa4439cf-1990-48a0-8726-09c1042c65d6"
      },
      "source": [
        "greeting = \"Welcome to Python Programming\"\n",
        "print(greeting)"
      ],
      "execution_count": 1,
      "outputs": [
        {
          "output_type": "stream",
          "name": "stdout",
          "text": [
            "Welcome to Python Programming\n"
          ]
        }
      ]
    },
    {
      "cell_type": "code",
      "metadata": {
        "colab": {
          "base_uri": "https://localhost:8080/"
        },
        "id": "y-C-uRZ6kJzX",
        "outputId": "808da9ea-4da4-4b97-ad1a-4ea7c07d6ede"
      },
      "source": [
        "name = \"Mark Jolo Villalobos\"\n",
        "address = \"Tibig, Silang, Cavite\"\n",
        "age = 19\n",
        "print(name)\n",
        "print(address)\n",
        "print(age)"
      ],
      "execution_count": 8,
      "outputs": [
        {
          "output_type": "stream",
          "name": "stdout",
          "text": [
            "Mark Jolo Villalobos\n",
            "Tibig, Silang, Cavite\n",
            "19\n"
          ]
        }
      ]
    },
    {
      "cell_type": "code",
      "metadata": {
        "colab": {
          "base_uri": "https://localhost:8080/"
        },
        "id": "uxGkvvS0kmF-",
        "outputId": "d2b1db9e-fc99-4b21-841e-99fec7e2fb60"
      },
      "source": [
        "print(greeting + \" \" + name + \"!\")\n",
        "print(\"You're from \" + address + \".\")\n",
        "print(\"You are \" + (str(age)) + \" years old.\")"
      ],
      "execution_count": 12,
      "outputs": [
        {
          "output_type": "stream",
          "name": "stdout",
          "text": [
            "Welcome to Python Programming Mark Jolo Villalobos!\n",
            "You're from Tibig, Silang, Cavite.\n",
            "You are 19 years old.\n"
          ]
        }
      ]
    }
  ]
}